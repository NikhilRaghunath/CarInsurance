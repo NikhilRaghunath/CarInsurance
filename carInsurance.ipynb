{
 "cells": [
  {
   "cell_type": "markdown",
   "id": "constitutional-cincinnati",
   "metadata": {},
   "source": [
    "## Name: Nikhil Raghunath\n",
    "\n",
    "\n",
    "## Case Study\n",
    "\n",
    "The dataset is from a banking institute in the United States where they also provide car insurance services apart from other services. The bank is running a campaign to enrol new customers or to upsell to the existing insurance customers. It is a classic marketing campaign where companies, in this case a banking institute relies on communication channels such as phone calls as a suitable mean instead of contacting the potential customers via emails, text messages or social media.\n",
    "\n",
    "The bank has the data for about 4000 customers that it contacted during the last campaign and their results and the aim is to identify potential customers who susbscribed for the insurance during the current campaign"
   ]
  },
  {
   "cell_type": "markdown",
   "id": "spiritual-mexico",
   "metadata": {},
   "source": [
    "### Dataset\n",
    "\n",
    "The dataset has information regarding the bank car insurance customers and the data from the previous run marketing campaign. The total number of features in the dataset is 18, excluding the target feature which is CarInsurance. The features are a mixture of numerical, categorical and DateTime types. The brief Description of each of the feature is given below:\n",
    "\n",
    "#### Dependent Variables\n",
    "\n",
    "##### Id               \n",
    "A Unique ID number for each record (Integer)\n",
    "\n",
    "##### Age              \n",
    "The Age of the customer (Integer)\n",
    "\n",
    "##### Job              \n",
    "The Job title of the customer (String)\n",
    "\n",
    "##### Marital          \n",
    "The Marital status of the customer (String)\n",
    "\n",
    "##### Education        \n",
    "Education level of the customer (String)\n",
    "\n",
    "##### Default          \n",
    "Has credit in default, \"yes\" - 1,\"no\" - 0 (Categorical)\n",
    "\n",
    "##### Balance          \n",
    "The current balance in the customer's account in USD (Integer)\n",
    "\n",
    "##### HH Insurance     \n",
    "Is the customer house insured, \"yes\" - 1,\"no\" - 0 (Categorical)\n",
    "\n",
    "##### CarLoan          \n",
    "Is the customer car purchased under loan, \"yes\" - 1,\"no\" - 0 (Categorical)\n",
    "\n",
    "##### Communication    \n",
    "The communication type of the campaign (String)\n",
    "\n",
    "##### LastContactMonth \n",
    "The month the customer was last contacted (String)\n",
    "\n",
    "##### LastContactDay   \n",
    "The day the customer was last contacted (Integer)\n",
    "\n",
    "##### CallStart        \n",
    "The time in HH:MM:SS format when the call started (DateTime)\n",
    "\n",
    "##### CallEnd          \n",
    "The time in HH:MM:SS format when the call ended (DateTime)\n",
    "\n",
    "##### NoOfContacts     \n",
    "The count of times the customer was contacted regarding the car insurance (Integer)\n",
    "\n",
    "##### DaysPassed       \n",
    "The number of days passed since the last contact with the customer (Integer)\n",
    "\n",
    "##### PrevAttempts     \n",
    "The number of times the customer was contacted during the previous campaign (Integer)\n",
    "\n",
    "##### Outcome          \n",
    "Result of the previous campaign outcome (String)\n",
    "\n",
    "\n",
    "#### Target variable\n",
    "\n",
    "##### CarInsurance     \n",
    "Has the client subscribed a CarInsurance,\"yes\" - 1,\"no\" - 0 (Categorical)"
   ]
  },
  {
   "cell_type": "markdown",
   "id": "rural-viewer",
   "metadata": {},
   "source": [
    "### Importing required python libraries"
   ]
  },
  {
   "cell_type": "code",
   "execution_count": 161,
   "id": "excited-auction",
   "metadata": {},
   "outputs": [],
   "source": [
    "import pandas as pd\n",
    "import numpy as np\n",
    "import matplotlib.pyplot as plt\n",
    "import seaborn as sns"
   ]
  },
  {
   "cell_type": "code",
   "execution_count": 162,
   "id": "representative-expense",
   "metadata": {},
   "outputs": [],
   "source": [
    "from sklearn.preprocessing import OneHotEncoder\n",
    "from sklearn.model_selection import train_test_split\n",
    "from sklearn.preprocessing import StandardScaler\n",
    "from sklearn.metrics import accuracy_score\n",
    "from sklearn.metrics import confusion_matrix\n",
    "from sklearn.pipeline import Pipeline\n",
    "from sklearn.feature_selection import SelectKBest\n",
    "from sklearn.model_selection import GridSearchCV\n",
    "from sklearn.model_selection import train_test_split\n",
    "\n",
    "from sklearn.feature_selection import VarianceThreshold\n",
    "from sklearn.feature_selection import SelectFromModel\n",
    "\n",
    "import lightgbm as lgbm\n",
    "from sklearn.linear_model import LogisticRegression\n",
    "from sklearn.linear_model import SGDClassifier\n",
    "from sklearn.tree import DecisionTreeClassifier\n",
    "from sklearn.ensemble import RandomForestClassifier\n",
    "from sklearn.svm import SVC\n",
    "from sklearn.neighbors import KNeighborsClassifier"
   ]
  },
  {
   "cell_type": "markdown",
   "id": "twelve-genre",
   "metadata": {},
   "source": [
    "### Importing the training dataset data"
   ]
  },
  {
   "cell_type": "code",
   "execution_count": 180,
   "id": "personalized-northeast",
   "metadata": {},
   "outputs": [],
   "source": [
    "train = pd.read_csv('carInsurance_train.csv')"
   ]
  },
  {
   "cell_type": "markdown",
   "id": "soviet-circular",
   "metadata": {},
   "source": [
    "### Visualizations\n",
    "\n",
    "The visualizations are a very powerful way of understanding the data without having to look deep into the dataset. The visualizations often provide us with key insights and patterns that are generally hidden from the naked eye. We try to visualize the features and try to understand the data better."
   ]
  },
  {
   "cell_type": "markdown",
   "id": "opponent-rhythm",
   "metadata": {},
   "source": [
    "### Age"
   ]
  },
  {
   "cell_type": "code",
   "execution_count": 172,
   "id": "lesser-liberal",
   "metadata": {},
   "outputs": [
    {
     "data": {
      "text/plain": [
       "<AxesSubplot:xlabel='Age'>"
      ]
     },
     "execution_count": 172,
     "metadata": {},
     "output_type": "execute_result"
    },
    {
     "data": {
      "image/png": "[encoded data removed]",
      "text/plain": [
       "<Figure size 720x360 with 1 Axes>"
      ]
     },
     "metadata": {
      "needs_background": "light"
     },
     "output_type": "display_data"
    }
   ],
   "source": [
    "train.groupby('Age').count()[\"Id\"].plot(kind=\"line\",figsize=(10,5))"
   ]
  },
  {
   "cell_type": "markdown",
   "id": "polished-mitchell",
   "metadata": {},
   "source": [
    "### Observation\n",
    "\n",
    "The line plot for a numerical feature Age reveals that the people between 25-55 were the favorite age group to be targeted as they are the people who are most likely to drive a car and are in need of an insurance for their vehicle"
   ]
  },
  {
   "cell_type": "markdown",
   "id": "handy-operations",
   "metadata": {},
   "source": [
    "### Job"
   ]
  },
  {
   "cell_type": "code",
   "execution_count": 168,
   "id": "intense-infrared",
   "metadata": {},
   "outputs": [
    {
     "data": {
      "text/plain": [
       "<AxesSubplot:>"
      ]
     },
     "execution_count": 168,
     "metadata": {},
     "output_type": "execute_result"
    },
    {
     "data": {
      "image/png": "[encoded data removed]",
      "text/plain": [
       "<Figure size 720x360 with 1 Axes>"
      ]
     },
     "metadata": {
      "needs_background": "light"
     },
     "output_type": "display_data"
    }
   ],
   "source": [
    "train['Job'].value_counts().plot.bar(color='Orange',figsize=(10,5))"
   ]
  },
  {
   "cell_type": "markdown",
   "id": "fleet-controversy",
   "metadata": {},
   "source": [
    "### Observation\n",
    "\n",
    "The bar plot for the job description of the customer shows that the working class people with a steady flow of income were targeted when compared customer who are retired or a student still or facing unemployment."
   ]
  },
  {
   "cell_type": "markdown",
   "id": "seasonal-nigeria",
   "metadata": {},
   "source": [
    "### Marital"
   ]
  },
  {
   "cell_type": "code",
   "execution_count": 169,
   "id": "floppy-reflection",
   "metadata": {},
   "outputs": [
    {
     "data": {
      "text/plain": [
       "<AxesSubplot:>"
      ]
     },
     "execution_count": 169,
     "metadata": {},
     "output_type": "execute_result"
    },
    {
     "data": {
      "image/png": "[encoded data removed]",
      "text/plain": [
       "<Figure size 720x360 with 1 Axes>"
      ]
     },
     "metadata": {
      "needs_background": "light"
     },
     "output_type": "display_data"
    }
   ],
   "source": [
    "train['Marital'].value_counts().plot.bar(color='Orange',figsize=(10,5))"
   ]
  },
  {
   "cell_type": "markdown",
   "id": "stone-rainbow",
   "metadata": {},
   "source": [
    "### Observation\n",
    "\n",
    "The marital status of a customer bar plot reveals that the married customers were preferred when compared to customers who were single or divorcees. It could be because the married customer might happen to have multiple cars and the likelihood of them needing an insurance for their vehicle is higher"
   ]
  },
  {
   "cell_type": "markdown",
   "id": "secondary-piano",
   "metadata": {},
   "source": [
    "### Education"
   ]
  },
  {
   "cell_type": "code",
   "execution_count": 173,
   "id": "stylish-application",
   "metadata": {},
   "outputs": [
    {
     "data": {
      "text/plain": [
       "<AxesSubplot:>"
      ]
     },
     "execution_count": 173,
     "metadata": {},
     "output_type": "execute_result"
    },
    {
     "data": {
      "image/png": "[encoded data removed]",
      "text/plain": [
       "<Figure size 720x360 with 1 Axes>"
      ]
     },
     "metadata": {
      "needs_background": "light"
     },
     "output_type": "display_data"
    }
   ],
   "source": [
    "train['Education'].value_counts().plot.bar(color='Orange',figsize=(10,5))"
   ]
  },
  {
   "cell_type": "markdown",
   "id": "religious-triple",
   "metadata": {},
   "source": [
    "### Observation\n",
    "\n",
    "Education is always a key indicator as it is often correlated to the amount of money a person makes which in turns gives us an idea about a person's ability to purchase and maintain a car. As expected the customers with higher degree or education level were preferred "
   ]
  },
  {
   "cell_type": "markdown",
   "id": "dynamic-matthew",
   "metadata": {},
   "source": [
    "### Communication"
   ]
  },
  {
   "cell_type": "code",
   "execution_count": 174,
   "id": "generic-technical",
   "metadata": {},
   "outputs": [
    {
     "data": {
      "text/plain": [
       "<AxesSubplot:>"
      ]
     },
     "execution_count": 174,
     "metadata": {},
     "output_type": "execute_result"
    },
    {
     "data": {
      "image/png": "[encoded data removed]",
      "text/plain": [
       "<Figure size 720x360 with 1 Axes>"
      ]
     },
     "metadata": {
      "needs_background": "light"
     },
     "output_type": "display_data"
    }
   ],
   "source": [
    "train['Communication'].value_counts().plot.bar(color='Orange',figsize=(10,5))"
   ]
  },
  {
   "cell_type": "markdown",
   "id": "formed-shark",
   "metadata": {},
   "source": [
    "### Observation\n",
    "\n",
    "The communication channel is a very important metric for a digital marketing campaign as it describes the best way to contact the customer which is key to sell a product. The bar plot reveals that the celluar/mobile way of communication was the way to go"
   ]
  },
  {
   "cell_type": "markdown",
   "id": "optional-baghdad",
   "metadata": {},
   "source": [
    "### CarLoan"
   ]
  },
  {
   "cell_type": "code",
   "execution_count": 175,
   "id": "centered-powell",
   "metadata": {},
   "outputs": [
    {
     "data": {
      "text/plain": [
       "<AxesSubplot:>"
      ]
     },
     "execution_count": 175,
     "metadata": {},
     "output_type": "execute_result"
    },
    {
     "data": {
      "image/png": "[encoded data removed]",
      "text/plain": [
       "<Figure size 720x360 with 1 Axes>"
      ]
     },
     "metadata": {
      "needs_background": "light"
     },
     "output_type": "display_data"
    }
   ],
   "source": [
    "train['CarLoan'].value_counts().plot.bar(color='Orange',figsize=(10,5))"
   ]
  },
  {
   "cell_type": "markdown",
   "id": "suffering-secretary",
   "metadata": {},
   "source": [
    "### Observation\n",
    "\n",
    "The CarLoan feature describes whether a customer has purchased a car by taking a loan. The bar plot clearly favors those customers who have taken the loan as they might be more likely to purchase a car Insurance as well"
   ]
  },
  {
   "cell_type": "markdown",
   "id": "golden-spanking",
   "metadata": {},
   "source": [
    "### LastContactMonth"
   ]
  },
  {
   "cell_type": "code",
   "execution_count": 177,
   "id": "institutional-honolulu",
   "metadata": {},
   "outputs": [
    {
     "data": {
      "text/plain": [
       "<AxesSubplot:xlabel='LastContactMonth'>"
      ]
     },
     "execution_count": 177,
     "metadata": {},
     "output_type": "execute_result"
    },
    {
     "data": {
      "image/png": "[encoded data removed]",
      "text/plain": [
       "<Figure size 720x360 with 1 Axes>"
      ]
     },
     "metadata": {
      "needs_background": "light"
     },
     "output_type": "display_data"
    }
   ],
   "source": [
    "train.groupby('LastContactMonth').count()[\"Id\"].plot(color='Orange',figsize=(10,5),kind=\"bar\")"
   ]
  },
  {
   "cell_type": "markdown",
   "id": "bored-match",
   "metadata": {},
   "source": [
    "### Observation\n",
    "\n",
    "The last contact month bar plot shows the summer months from May-July seem to the most favored months to contact the customers"
   ]
  },
  {
   "cell_type": "markdown",
   "id": "spread-plaza",
   "metadata": {},
   "source": [
    "### Correlation plot"
   ]
  },
  {
   "cell_type": "code",
   "execution_count": 179,
   "id": "vanilla-bouquet",
   "metadata": {},
   "outputs": [
    {
     "data": {
      "text/plain": [
       "<AxesSubplot:>"
      ]
     },
     "execution_count": 179,
     "metadata": {},
     "output_type": "execute_result"
    },
    {
     "data": {
      "image/png": "[encoded data removed]",
      "text/plain": [
       "<Figure size 720x720 with 2 Axes>"
      ]
     },
     "metadata": {
      "needs_background": "light"
     },
     "output_type": "display_data"
    }
   ],
   "source": [
    "f, ax = plt.subplots(figsize=(10, 10))\n",
    "corr = train.corr()\n",
    "sns.heatmap(corr, mask=np.zeros_like(corr, dtype=np.bool), cmap=sns.diverging_palette(220, 10, as_cmap=True),\n",
    "            square=True, ax=ax)"
   ]
  },
  {
   "cell_type": "markdown",
   "id": "federal-service",
   "metadata": {},
   "source": [
    "### Observation\n",
    "\n",
    "The correlation plot is used to understand the relationship among the features. If there is a strong positive correlation among the features, it doesn't give unique information and one of them could be dropped. As we can see from the correlation plot, there is no high positive or negative correlation among the features and the target variable"
   ]
  },
  {
   "cell_type": "code",
   "execution_count": 181,
   "id": "numerical-ballot",
   "metadata": {},
   "outputs": [
    {
     "data": {
      "text/html": [
       "<div>\n",
       "<style scoped>\n",
       "    .dataframe tbody tr th:only-of-type {\n",
       "        vertical-align: middle;\n",
       "    }\n",
       "\n",
       "    .dataframe tbody tr th {\n",
       "        vertical-align: top;\n",
       "    }\n",
       "\n",
       "    .dataframe thead th {\n",
       "        text-align: right;\n",
       "    }\n",
       "</style>\n",
       "<table border=\"1\" class=\"dataframe\">\n",
       "  <thead>\n",
       "    <tr style=\"text-align: right;\">\n",
       "      <th></th>\n",
       "      <th>Id</th>\n",
       "      <th>Age</th>\n",
       "      <th>Job</th>\n",
       "      <th>Marital</th>\n",
       "      <th>Education</th>\n",
       "      <th>Default</th>\n",
       "      <th>Balance</th>\n",
       "      <th>HHInsurance</th>\n",
       "      <th>CarLoan</th>\n",
       "      <th>Communication</th>\n",
       "      <th>LastContactDay</th>\n",
       "      <th>LastContactMonth</th>\n",
       "      <th>NoOfContacts</th>\n",
       "      <th>DaysPassed</th>\n",
       "      <th>PrevAttempts</th>\n",
       "      <th>Outcome</th>\n",
       "      <th>CallStart</th>\n",
       "      <th>CallEnd</th>\n",
       "      <th>CarInsurance</th>\n",
       "    </tr>\n",
       "  </thead>\n",
       "  <tbody>\n",
       "    <tr>\n",
       "      <th>0</th>\n",
       "      <td>1</td>\n",
       "      <td>32</td>\n",
       "      <td>management</td>\n",
       "      <td>single</td>\n",
       "      <td>tertiary</td>\n",
       "      <td>0</td>\n",
       "      <td>1218</td>\n",
       "      <td>1</td>\n",
       "      <td>0</td>\n",
       "      <td>telephone</td>\n",
       "      <td>28</td>\n",
       "      <td>jan</td>\n",
       "      <td>2</td>\n",
       "      <td>-1</td>\n",
       "      <td>0</td>\n",
       "      <td>NaN</td>\n",
       "      <td>13:45:20</td>\n",
       "      <td>13:46:30</td>\n",
       "      <td>0</td>\n",
       "    </tr>\n",
       "    <tr>\n",
       "      <th>1</th>\n",
       "      <td>2</td>\n",
       "      <td>32</td>\n",
       "      <td>blue-collar</td>\n",
       "      <td>married</td>\n",
       "      <td>primary</td>\n",
       "      <td>0</td>\n",
       "      <td>1156</td>\n",
       "      <td>1</td>\n",
       "      <td>0</td>\n",
       "      <td>NaN</td>\n",
       "      <td>26</td>\n",
       "      <td>may</td>\n",
       "      <td>5</td>\n",
       "      <td>-1</td>\n",
       "      <td>0</td>\n",
       "      <td>NaN</td>\n",
       "      <td>14:49:03</td>\n",
       "      <td>14:52:08</td>\n",
       "      <td>0</td>\n",
       "    </tr>\n",
       "    <tr>\n",
       "      <th>2</th>\n",
       "      <td>3</td>\n",
       "      <td>29</td>\n",
       "      <td>management</td>\n",
       "      <td>single</td>\n",
       "      <td>tertiary</td>\n",
       "      <td>0</td>\n",
       "      <td>637</td>\n",
       "      <td>1</td>\n",
       "      <td>0</td>\n",
       "      <td>cellular</td>\n",
       "      <td>3</td>\n",
       "      <td>jun</td>\n",
       "      <td>1</td>\n",
       "      <td>119</td>\n",
       "      <td>1</td>\n",
       "      <td>failure</td>\n",
       "      <td>16:30:24</td>\n",
       "      <td>16:36:04</td>\n",
       "      <td>1</td>\n",
       "    </tr>\n",
       "    <tr>\n",
       "      <th>3</th>\n",
       "      <td>4</td>\n",
       "      <td>25</td>\n",
       "      <td>student</td>\n",
       "      <td>single</td>\n",
       "      <td>primary</td>\n",
       "      <td>0</td>\n",
       "      <td>373</td>\n",
       "      <td>1</td>\n",
       "      <td>0</td>\n",
       "      <td>cellular</td>\n",
       "      <td>11</td>\n",
       "      <td>may</td>\n",
       "      <td>2</td>\n",
       "      <td>-1</td>\n",
       "      <td>0</td>\n",
       "      <td>NaN</td>\n",
       "      <td>12:06:43</td>\n",
       "      <td>12:20:22</td>\n",
       "      <td>1</td>\n",
       "    </tr>\n",
       "    <tr>\n",
       "      <th>4</th>\n",
       "      <td>5</td>\n",
       "      <td>30</td>\n",
       "      <td>management</td>\n",
       "      <td>married</td>\n",
       "      <td>tertiary</td>\n",
       "      <td>0</td>\n",
       "      <td>2694</td>\n",
       "      <td>0</td>\n",
       "      <td>0</td>\n",
       "      <td>cellular</td>\n",
       "      <td>3</td>\n",
       "      <td>jun</td>\n",
       "      <td>1</td>\n",
       "      <td>-1</td>\n",
       "      <td>0</td>\n",
       "      <td>NaN</td>\n",
       "      <td>14:35:44</td>\n",
       "      <td>14:38:56</td>\n",
       "      <td>0</td>\n",
       "    </tr>\n",
       "    <tr>\n",
       "      <th>...</th>\n",
       "      <td>...</td>\n",
       "      <td>...</td>\n",
       "      <td>...</td>\n",
       "      <td>...</td>\n",
       "      <td>...</td>\n",
       "      <td>...</td>\n",
       "      <td>...</td>\n",
       "      <td>...</td>\n",
       "      <td>...</td>\n",
       "      <td>...</td>\n",
       "      <td>...</td>\n",
       "      <td>...</td>\n",
       "      <td>...</td>\n",
       "      <td>...</td>\n",
       "      <td>...</td>\n",
       "      <td>...</td>\n",
       "      <td>...</td>\n",
       "      <td>...</td>\n",
       "      <td>...</td>\n",
       "    </tr>\n",
       "    <tr>\n",
       "      <th>3995</th>\n",
       "      <td>3996</td>\n",
       "      <td>28</td>\n",
       "      <td>technician</td>\n",
       "      <td>single</td>\n",
       "      <td>tertiary</td>\n",
       "      <td>0</td>\n",
       "      <td>0</td>\n",
       "      <td>1</td>\n",
       "      <td>0</td>\n",
       "      <td>cellular</td>\n",
       "      <td>25</td>\n",
       "      <td>may</td>\n",
       "      <td>1</td>\n",
       "      <td>40</td>\n",
       "      <td>2</td>\n",
       "      <td>failure</td>\n",
       "      <td>17:46:28</td>\n",
       "      <td>17:50:57</td>\n",
       "      <td>1</td>\n",
       "    </tr>\n",
       "    <tr>\n",
       "      <th>3996</th>\n",
       "      <td>3997</td>\n",
       "      <td>49</td>\n",
       "      <td>admin.</td>\n",
       "      <td>divorced</td>\n",
       "      <td>secondary</td>\n",
       "      <td>0</td>\n",
       "      <td>124</td>\n",
       "      <td>1</td>\n",
       "      <td>1</td>\n",
       "      <td>cellular</td>\n",
       "      <td>29</td>\n",
       "      <td>jul</td>\n",
       "      <td>19</td>\n",
       "      <td>-1</td>\n",
       "      <td>0</td>\n",
       "      <td>NaN</td>\n",
       "      <td>14:49:16</td>\n",
       "      <td>14:51:21</td>\n",
       "      <td>0</td>\n",
       "    </tr>\n",
       "    <tr>\n",
       "      <th>3997</th>\n",
       "      <td>3998</td>\n",
       "      <td>27</td>\n",
       "      <td>admin.</td>\n",
       "      <td>single</td>\n",
       "      <td>secondary</td>\n",
       "      <td>0</td>\n",
       "      <td>-400</td>\n",
       "      <td>0</td>\n",
       "      <td>1</td>\n",
       "      <td>cellular</td>\n",
       "      <td>8</td>\n",
       "      <td>jul</td>\n",
       "      <td>1</td>\n",
       "      <td>-1</td>\n",
       "      <td>0</td>\n",
       "      <td>NaN</td>\n",
       "      <td>12:19:03</td>\n",
       "      <td>12:23:53</td>\n",
       "      <td>0</td>\n",
       "    </tr>\n",
       "    <tr>\n",
       "      <th>3998</th>\n",
       "      <td>3999</td>\n",
       "      <td>36</td>\n",
       "      <td>entrepreneur</td>\n",
       "      <td>single</td>\n",
       "      <td>tertiary</td>\n",
       "      <td>0</td>\n",
       "      <td>658</td>\n",
       "      <td>1</td>\n",
       "      <td>0</td>\n",
       "      <td>cellular</td>\n",
       "      <td>29</td>\n",
       "      <td>jan</td>\n",
       "      <td>1</td>\n",
       "      <td>227</td>\n",
       "      <td>3</td>\n",
       "      <td>failure</td>\n",
       "      <td>11:27:35</td>\n",
       "      <td>11:29:14</td>\n",
       "      <td>0</td>\n",
       "    </tr>\n",
       "    <tr>\n",
       "      <th>3999</th>\n",
       "      <td>4000</td>\n",
       "      <td>45</td>\n",
       "      <td>services</td>\n",
       "      <td>married</td>\n",
       "      <td>primary</td>\n",
       "      <td>0</td>\n",
       "      <td>137</td>\n",
       "      <td>1</td>\n",
       "      <td>0</td>\n",
       "      <td>NaN</td>\n",
       "      <td>9</td>\n",
       "      <td>may</td>\n",
       "      <td>2</td>\n",
       "      <td>-1</td>\n",
       "      <td>0</td>\n",
       "      <td>NaN</td>\n",
       "      <td>13:31:48</td>\n",
       "      <td>13:36:22</td>\n",
       "      <td>0</td>\n",
       "    </tr>\n",
       "  </tbody>\n",
       "</table>\n",
       "<p>4000 rows × 19 columns</p>\n",
       "</div>"
      ],
      "text/plain": [
       "        Id  Age           Job   Marital  Education  Default  Balance  \\\n",
       "0        1   32    management    single   tertiary        0     1218   \n",
       "1        2   32   blue-collar   married    primary        0     1156   \n",
       "2        3   29    management    single   tertiary        0      637   \n",
       "3        4   25       student    single    primary        0      373   \n",
       "4        5   30    management   married   tertiary        0     2694   \n",
       "...    ...  ...           ...       ...        ...      ...      ...   \n",
       "3995  3996   28    technician    single   tertiary        0        0   \n",
       "3996  3997   49        admin.  divorced  secondary        0      124   \n",
       "3997  3998   27        admin.    single  secondary        0     -400   \n",
       "3998  3999   36  entrepreneur    single   tertiary        0      658   \n",
       "3999  4000   45      services   married    primary        0      137   \n",
       "\n",
       "      HHInsurance  CarLoan Communication  LastContactDay LastContactMonth  \\\n",
       "0               1        0     telephone              28              jan   \n",
       "1               1        0           NaN              26              may   \n",
       "2               1        0      cellular               3              jun   \n",
       "3               1        0      cellular              11              may   \n",
       "4               0        0      cellular               3              jun   \n",
       "...           ...      ...           ...             ...              ...   \n",
       "3995            1        0      cellular              25              may   \n",
       "3996            1        1      cellular              29              jul   \n",
       "3997            0        1      cellular               8              jul   \n",
       "3998            1        0      cellular              29              jan   \n",
       "3999            1        0           NaN               9              may   \n",
       "\n",
       "      NoOfContacts  DaysPassed  PrevAttempts  Outcome CallStart   CallEnd  \\\n",
       "0                2          -1             0      NaN  13:45:20  13:46:30   \n",
       "1                5          -1             0      NaN  14:49:03  14:52:08   \n",
       "2                1         119             1  failure  16:30:24  16:36:04   \n",
       "3                2          -1             0      NaN  12:06:43  12:20:22   \n",
       "4                1          -1             0      NaN  14:35:44  14:38:56   \n",
       "...            ...         ...           ...      ...       ...       ...   \n",
       "3995             1          40             2  failure  17:46:28  17:50:57   \n",
       "3996            19          -1             0      NaN  14:49:16  14:51:21   \n",
       "3997             1          -1             0      NaN  12:19:03  12:23:53   \n",
       "3998             1         227             3  failure  11:27:35  11:29:14   \n",
       "3999             2          -1             0      NaN  13:31:48  13:36:22   \n",
       "\n",
       "      CarInsurance  \n",
       "0                0  \n",
       "1                0  \n",
       "2                1  \n",
       "3                1  \n",
       "4                0  \n",
       "...            ...  \n",
       "3995             1  \n",
       "3996             0  \n",
       "3997             0  \n",
       "3998             0  \n",
       "3999             0  \n",
       "\n",
       "[4000 rows x 19 columns]"
      ]
     },
     "execution_count": 181,
     "metadata": {},
     "output_type": "execute_result"
    }
   ],
   "source": [
    "train"
   ]
  },
  {
   "cell_type": "markdown",
   "id": "classical-stuff",
   "metadata": {},
   "source": [
    "### Observation\n",
    "\n",
    "As we can see from the above dataframe, the total number of records are 4000 and the number of features including the target feature is 19. A quick glance at the dataframe values reveals that the dataset contains NaN(empty values) across multiple columns and it needs to be handled."
   ]
  },
  {
   "cell_type": "markdown",
   "id": "retired-plumbing",
   "metadata": {},
   "source": [
    "### Missing value info"
   ]
  },
  {
   "cell_type": "code",
   "execution_count": 135,
   "id": "fifth-stewart",
   "metadata": {},
   "outputs": [
    {
     "name": "stdout",
     "output_type": "stream",
     "text": [
      "<class 'pandas.core.frame.DataFrame'>\n",
      "RangeIndex: 4000 entries, 0 to 3999\n",
      "Data columns (total 19 columns):\n",
      " #   Column            Non-Null Count  Dtype \n",
      "---  ------            --------------  ----- \n",
      " 0   Id                4000 non-null   int64 \n",
      " 1   Age               4000 non-null   int64 \n",
      " 2   Job               3981 non-null   object\n",
      " 3   Marital           4000 non-null   object\n",
      " 4   Education         3831 non-null   object\n",
      " 5   Default           4000 non-null   int64 \n",
      " 6   Balance           4000 non-null   int64 \n",
      " 7   HHInsurance       4000 non-null   int64 \n",
      " 8   CarLoan           4000 non-null   int64 \n",
      " 9   Communication     3098 non-null   object\n",
      " 10  LastContactDay    4000 non-null   int64 \n",
      " 11  LastContactMonth  4000 non-null   object\n",
      " 12  NoOfContacts      4000 non-null   int64 \n",
      " 13  DaysPassed        4000 non-null   int64 \n",
      " 14  PrevAttempts      4000 non-null   int64 \n",
      " 15  Outcome           958 non-null    object\n",
      " 16  CallStart         4000 non-null   object\n",
      " 17  CallEnd           4000 non-null   object\n",
      " 18  CarInsurance      4000 non-null   int64 \n",
      "dtypes: int64(11), object(8)\n",
      "memory usage: 593.9+ KB\n"
     ]
    }
   ],
   "source": [
    "train.info()"
   ]
  },
  {
   "cell_type": "markdown",
   "id": "rocky-isaac",
   "metadata": {},
   "source": [
    "### Observation\n",
    "\n",
    "Diving deeper into the missing value information shows that 4 feature columns have missing values in them. Job, Education, communication and outcome are the columns with missing values. Each of these feature should be handled before modelling.\n",
    "\n",
    "The \"outcome\" variable has the most missing values and going by the description of the feature,it explains the outcome of the previous campaign. It doesn't add much information to the current campaign and could be dropped.\n",
    "\n",
    "Feature \"Id\", describes each row using a unique integer could be dropped \n",
    "\n",
    "Feature \"default\" describes if the customer has credit in default using a binary variable could also be dropped\n",
    "\n",
    "Feature \"PrevAttempts\" describes the number of times the customer was contacted the previous campaign could also be dropped."
   ]
  },
  {
   "cell_type": "markdown",
   "id": "correct-denver",
   "metadata": {},
   "source": [
    "### Drop columns"
   ]
  },
  {
   "cell_type": "code",
   "execution_count": 209,
   "id": "coral-colonial",
   "metadata": {},
   "outputs": [
    {
     "data": {
      "text/html": [
       "<div>\n",
       "<style scoped>\n",
       "    .dataframe tbody tr th:only-of-type {\n",
       "        vertical-align: middle;\n",
       "    }\n",
       "\n",
       "    .dataframe tbody tr th {\n",
       "        vertical-align: top;\n",
       "    }\n",
       "\n",
       "    .dataframe thead th {\n",
       "        text-align: right;\n",
       "    }\n",
       "</style>\n",
       "<table border=\"1\" class=\"dataframe\">\n",
       "  <thead>\n",
       "    <tr style=\"text-align: right;\">\n",
       "      <th></th>\n",
       "      <th>Age</th>\n",
       "      <th>Job</th>\n",
       "      <th>Marital</th>\n",
       "      <th>Education</th>\n",
       "      <th>Balance</th>\n",
       "      <th>HHInsurance</th>\n",
       "      <th>CarLoan</th>\n",
       "      <th>Communication</th>\n",
       "      <th>LastContactDay</th>\n",
       "      <th>LastContactMonth</th>\n",
       "      <th>NoOfContacts</th>\n",
       "      <th>DaysPassed</th>\n",
       "      <th>CallStart</th>\n",
       "      <th>CallEnd</th>\n",
       "      <th>CarInsurance</th>\n",
       "    </tr>\n",
       "  </thead>\n",
       "  <tbody>\n",
       "    <tr>\n",
       "      <th>0</th>\n",
       "      <td>32</td>\n",
       "      <td>management</td>\n",
       "      <td>single</td>\n",
       "      <td>tertiary</td>\n",
       "      <td>1218</td>\n",
       "      <td>1</td>\n",
       "      <td>0</td>\n",
       "      <td>telephone</td>\n",
       "      <td>28</td>\n",
       "      <td>jan</td>\n",
       "      <td>2</td>\n",
       "      <td>-1</td>\n",
       "      <td>13:45:20</td>\n",
       "      <td>13:46:30</td>\n",
       "      <td>0</td>\n",
       "    </tr>\n",
       "    <tr>\n",
       "      <th>1</th>\n",
       "      <td>32</td>\n",
       "      <td>blue-collar</td>\n",
       "      <td>married</td>\n",
       "      <td>primary</td>\n",
       "      <td>1156</td>\n",
       "      <td>1</td>\n",
       "      <td>0</td>\n",
       "      <td>NaN</td>\n",
       "      <td>26</td>\n",
       "      <td>may</td>\n",
       "      <td>5</td>\n",
       "      <td>-1</td>\n",
       "      <td>14:49:03</td>\n",
       "      <td>14:52:08</td>\n",
       "      <td>0</td>\n",
       "    </tr>\n",
       "    <tr>\n",
       "      <th>2</th>\n",
       "      <td>29</td>\n",
       "      <td>management</td>\n",
       "      <td>single</td>\n",
       "      <td>tertiary</td>\n",
       "      <td>637</td>\n",
       "      <td>1</td>\n",
       "      <td>0</td>\n",
       "      <td>cellular</td>\n",
       "      <td>3</td>\n",
       "      <td>jun</td>\n",
       "      <td>1</td>\n",
       "      <td>119</td>\n",
       "      <td>16:30:24</td>\n",
       "      <td>16:36:04</td>\n",
       "      <td>1</td>\n",
       "    </tr>\n",
       "    <tr>\n",
       "      <th>3</th>\n",
       "      <td>25</td>\n",
       "      <td>student</td>\n",
       "      <td>single</td>\n",
       "      <td>primary</td>\n",
       "      <td>373</td>\n",
       "      <td>1</td>\n",
       "      <td>0</td>\n",
       "      <td>cellular</td>\n",
       "      <td>11</td>\n",
       "      <td>may</td>\n",
       "      <td>2</td>\n",
       "      <td>-1</td>\n",
       "      <td>12:06:43</td>\n",
       "      <td>12:20:22</td>\n",
       "      <td>1</td>\n",
       "    </tr>\n",
       "    <tr>\n",
       "      <th>4</th>\n",
       "      <td>30</td>\n",
       "      <td>management</td>\n",
       "      <td>married</td>\n",
       "      <td>tertiary</td>\n",
       "      <td>2694</td>\n",
       "      <td>0</td>\n",
       "      <td>0</td>\n",
       "      <td>cellular</td>\n",
       "      <td>3</td>\n",
       "      <td>jun</td>\n",
       "      <td>1</td>\n",
       "      <td>-1</td>\n",
       "      <td>14:35:44</td>\n",
       "      <td>14:38:56</td>\n",
       "      <td>0</td>\n",
       "    </tr>\n",
       "    <tr>\n",
       "      <th>...</th>\n",
       "      <td>...</td>\n",
       "      <td>...</td>\n",
       "      <td>...</td>\n",
       "      <td>...</td>\n",
       "      <td>...</td>\n",
       "      <td>...</td>\n",
       "      <td>...</td>\n",
       "      <td>...</td>\n",
       "      <td>...</td>\n",
       "      <td>...</td>\n",
       "      <td>...</td>\n",
       "      <td>...</td>\n",
       "      <td>...</td>\n",
       "      <td>...</td>\n",
       "      <td>...</td>\n",
       "    </tr>\n",
       "    <tr>\n",
       "      <th>3995</th>\n",
       "      <td>28</td>\n",
       "      <td>technician</td>\n",
       "      <td>single</td>\n",
       "      <td>tertiary</td>\n",
       "      <td>0</td>\n",
       "      <td>1</td>\n",
       "      <td>0</td>\n",
       "      <td>cellular</td>\n",
       "      <td>25</td>\n",
       "      <td>may</td>\n",
       "      <td>1</td>\n",
       "      <td>40</td>\n",
       "      <td>17:46:28</td>\n",
       "      <td>17:50:57</td>\n",
       "      <td>1</td>\n",
       "    </tr>\n",
       "    <tr>\n",
       "      <th>3996</th>\n",
       "      <td>49</td>\n",
       "      <td>admin.</td>\n",
       "      <td>divorced</td>\n",
       "      <td>secondary</td>\n",
       "      <td>124</td>\n",
       "      <td>1</td>\n",
       "      <td>1</td>\n",
       "      <td>cellular</td>\n",
       "      <td>29</td>\n",
       "      <td>jul</td>\n",
       "      <td>19</td>\n",
       "      <td>-1</td>\n",
       "      <td>14:49:16</td>\n",
       "      <td>14:51:21</td>\n",
       "      <td>0</td>\n",
       "    </tr>\n",
       "    <tr>\n",
       "      <th>3997</th>\n",
       "      <td>27</td>\n",
       "      <td>admin.</td>\n",
       "      <td>single</td>\n",
       "      <td>secondary</td>\n",
       "      <td>-400</td>\n",
       "      <td>0</td>\n",
       "      <td>1</td>\n",
       "      <td>cellular</td>\n",
       "      <td>8</td>\n",
       "      <td>jul</td>\n",
       "      <td>1</td>\n",
       "      <td>-1</td>\n",
       "      <td>12:19:03</td>\n",
       "      <td>12:23:53</td>\n",
       "      <td>0</td>\n",
       "    </tr>\n",
       "    <tr>\n",
       "      <th>3998</th>\n",
       "      <td>36</td>\n",
       "      <td>entrepreneur</td>\n",
       "      <td>single</td>\n",
       "      <td>tertiary</td>\n",
       "      <td>658</td>\n",
       "      <td>1</td>\n",
       "      <td>0</td>\n",
       "      <td>cellular</td>\n",
       "      <td>29</td>\n",
       "      <td>jan</td>\n",
       "      <td>1</td>\n",
       "      <td>227</td>\n",
       "      <td>11:27:35</td>\n",
       "      <td>11:29:14</td>\n",
       "      <td>0</td>\n",
       "    </tr>\n",
       "    <tr>\n",
       "      <th>3999</th>\n",
       "      <td>45</td>\n",
       "      <td>services</td>\n",
       "      <td>married</td>\n",
       "      <td>primary</td>\n",
       "      <td>137</td>\n",
       "      <td>1</td>\n",
       "      <td>0</td>\n",
       "      <td>NaN</td>\n",
       "      <td>9</td>\n",
       "      <td>may</td>\n",
       "      <td>2</td>\n",
       "      <td>-1</td>\n",
       "      <td>13:31:48</td>\n",
       "      <td>13:36:22</td>\n",
       "      <td>0</td>\n",
       "    </tr>\n",
       "  </tbody>\n",
       "</table>\n",
       "<p>4000 rows × 15 columns</p>\n",
       "</div>"
      ],
      "text/plain": [
       "      Age           Job   Marital  Education  Balance  HHInsurance  CarLoan  \\\n",
       "0      32    management    single   tertiary     1218            1        0   \n",
       "1      32   blue-collar   married    primary     1156            1        0   \n",
       "2      29    management    single   tertiary      637            1        0   \n",
       "3      25       student    single    primary      373            1        0   \n",
       "4      30    management   married   tertiary     2694            0        0   \n",
       "...   ...           ...       ...        ...      ...          ...      ...   \n",
       "3995   28    technician    single   tertiary        0            1        0   \n",
       "3996   49        admin.  divorced  secondary      124            1        1   \n",
       "3997   27        admin.    single  secondary     -400            0        1   \n",
       "3998   36  entrepreneur    single   tertiary      658            1        0   \n",
       "3999   45      services   married    primary      137            1        0   \n",
       "\n",
       "     Communication  LastContactDay LastContactMonth  NoOfContacts  DaysPassed  \\\n",
       "0        telephone              28              jan             2          -1   \n",
       "1              NaN              26              may             5          -1   \n",
       "2         cellular               3              jun             1         119   \n",
       "3         cellular              11              may             2          -1   \n",
       "4         cellular               3              jun             1          -1   \n",
       "...            ...             ...              ...           ...         ...   \n",
       "3995      cellular              25              may             1          40   \n",
       "3996      cellular              29              jul            19          -1   \n",
       "3997      cellular               8              jul             1          -1   \n",
       "3998      cellular              29              jan             1         227   \n",
       "3999           NaN               9              may             2          -1   \n",
       "\n",
       "     CallStart   CallEnd  CarInsurance  \n",
       "0     13:45:20  13:46:30             0  \n",
       "1     14:49:03  14:52:08             0  \n",
       "2     16:30:24  16:36:04             1  \n",
       "3     12:06:43  12:20:22             1  \n",
       "4     14:35:44  14:38:56             0  \n",
       "...        ...       ...           ...  \n",
       "3995  17:46:28  17:50:57             1  \n",
       "3996  14:49:16  14:51:21             0  \n",
       "3997  12:19:03  12:23:53             0  \n",
       "3998  11:27:35  11:29:14             0  \n",
       "3999  13:31:48  13:36:22             0  \n",
       "\n",
       "[4000 rows x 15 columns]"
      ]
     },
     "execution_count": 209,
     "metadata": {},
     "output_type": "execute_result"
    }
   ],
   "source": [
    "df = train.drop(['Id','Default','PrevAttempts','Outcome'], axis=1)\n",
    "df"
   ]
  },
  {
   "cell_type": "markdown",
   "id": "stretch-puzzle",
   "metadata": {},
   "source": [
    "### Impute missing values"
   ]
  },
  {
   "cell_type": "code",
   "execution_count": 210,
   "id": "tested-pilot",
   "metadata": {},
   "outputs": [],
   "source": [
    "featureNames = ['Job','Education','Communication']\n",
    "\n",
    "for feature in featureNames:\n",
    "    df[feature] = df[feature].fillna(df[feature].mode()[0])"
   ]
  },
  {
   "cell_type": "markdown",
   "id": "secret-jacket",
   "metadata": {},
   "source": [
    "### Observation\n",
    "\n",
    "Handling of missing values is an essential part data processing where imputation is done to fill those values. The basis for imputation can be mean, mode etc. Since the missing value columns are categorical in nature and the visualization plot reveals that they are skewed towards a particular category, it is better to impute using the mode, which fills the missing values based on the most repeated category in the feature column"
   ]
  },
  {
   "cell_type": "code",
   "execution_count": 211,
   "id": "inclusive-wonder",
   "metadata": {},
   "outputs": [
    {
     "name": "stdout",
     "output_type": "stream",
     "text": [
      "<class 'pandas.core.frame.DataFrame'>\n",
      "RangeIndex: 4000 entries, 0 to 3999\n",
      "Data columns (total 15 columns):\n",
      " #   Column            Non-Null Count  Dtype \n",
      "---  ------            --------------  ----- \n",
      " 0   Age               4000 non-null   int64 \n",
      " 1   Job               4000 non-null   object\n",
      " 2   Marital           4000 non-null   object\n",
      " 3   Education         4000 non-null   object\n",
      " 4   Balance           4000 non-null   int64 \n",
      " 5   HHInsurance       4000 non-null   int64 \n",
      " 6   CarLoan           4000 non-null   int64 \n",
      " 7   Communication     4000 non-null   object\n",
      " 8   LastContactDay    4000 non-null   int64 \n",
      " 9   LastContactMonth  4000 non-null   object\n",
      " 10  NoOfContacts      4000 non-null   int64 \n",
      " 11  DaysPassed        4000 non-null   int64 \n",
      " 12  CallStart         4000 non-null   object\n",
      " 13  CallEnd           4000 non-null   object\n",
      " 14  CarInsurance      4000 non-null   int64 \n",
      "dtypes: int64(8), object(7)\n",
      "memory usage: 468.9+ KB\n"
     ]
    }
   ],
   "source": [
    "df.info()"
   ]
  },
  {
   "cell_type": "markdown",
   "id": "interracial-maker",
   "metadata": {},
   "source": [
    "### Observation\n",
    "\n",
    "As you can see from the above dataframe info, there are no more missing records in the dataset and all feature columns are of same number of rows. But these categorical feature columns like Job, Education, Marital and communication are strings and they all need to be converted to numerical data to be processed. This process is called encoding. \n",
    "\n",
    "There are several ways encoding can be done. There is binary encoding for a feature having only 2 values, in this case the communication column. If there are more than 2 values and there is order between the values, in this case the education column, ordinal encoding can be done. If there are more than 2 values and there is no actual ordering between the \"One-Hot encoding or dummy variable encoding\" is to be done. In this case, the Job and marital needs to be one-hot encoded"
   ]
  },
  {
   "cell_type": "markdown",
   "id": "federal-colonial",
   "metadata": {},
   "source": [
    "### Binary variable"
   ]
  },
  {
   "cell_type": "code",
   "execution_count": 212,
   "id": "secret-fluid",
   "metadata": {},
   "outputs": [],
   "source": [
    "df['Communication'] = df['Communication'].replace({'telephone': 0, 'cellular': 1})"
   ]
  },
  {
   "cell_type": "markdown",
   "id": "catholic-virgin",
   "metadata": {},
   "source": [
    "### Ordinal Variable"
   ]
  },
  {
   "cell_type": "code",
   "execution_count": 213,
   "id": "interracial-accent",
   "metadata": {},
   "outputs": [],
   "source": [
    "df['Education'] = df['Education'].replace({'primary': 0, 'secondary': 1, 'tertiary': 2})"
   ]
  },
  {
   "cell_type": "code",
   "execution_count": 214,
   "id": "apart-virtue",
   "metadata": {},
   "outputs": [],
   "source": [
    "df['LastContactMonth'] = df['LastContactMonth'].replace({\n",
    "        'jan': 0, 'feb': 1, 'mar': 2, 'apr': 3, 'may': 4, 'jun': 5, 'jul': 6, 'aug': 7, 'sep': 8, 'oct': 9, 'nov': 10, 'dec': 11\n",
    "    })"
   ]
  },
  {
   "cell_type": "markdown",
   "id": "classified-queue",
   "metadata": {},
   "source": [
    "### Encode Job and marital features"
   ]
  },
  {
   "cell_type": "code",
   "execution_count": 215,
   "id": "endangered-relationship",
   "metadata": {},
   "outputs": [
    {
     "data": {
      "text/html": [
       "<div>\n",
       "<style scoped>\n",
       "    .dataframe tbody tr th:only-of-type {\n",
       "        vertical-align: middle;\n",
       "    }\n",
       "\n",
       "    .dataframe tbody tr th {\n",
       "        vertical-align: top;\n",
       "    }\n",
       "\n",
       "    .dataframe thead th {\n",
       "        text-align: right;\n",
       "    }\n",
       "</style>\n",
       "<table border=\"1\" class=\"dataframe\">\n",
       "  <thead>\n",
       "    <tr style=\"text-align: right;\">\n",
       "      <th></th>\n",
       "      <th>Age</th>\n",
       "      <th>Education</th>\n",
       "      <th>Balance</th>\n",
       "      <th>HHInsurance</th>\n",
       "      <th>CarLoan</th>\n",
       "      <th>Communication</th>\n",
       "      <th>LastContactDay</th>\n",
       "      <th>LastContactMonth</th>\n",
       "      <th>NoOfContacts</th>\n",
       "      <th>DaysPassed</th>\n",
       "      <th>...</th>\n",
       "      <th>Job_management</th>\n",
       "      <th>Job_retired</th>\n",
       "      <th>Job_self-employed</th>\n",
       "      <th>Job_services</th>\n",
       "      <th>Job_student</th>\n",
       "      <th>Job_technician</th>\n",
       "      <th>Job_unemployed</th>\n",
       "      <th>Marital_divorced</th>\n",
       "      <th>Marital_married</th>\n",
       "      <th>Marital_single</th>\n",
       "    </tr>\n",
       "  </thead>\n",
       "  <tbody>\n",
       "    <tr>\n",
       "      <th>0</th>\n",
       "      <td>32</td>\n",
       "      <td>2</td>\n",
       "      <td>1218</td>\n",
       "      <td>1</td>\n",
       "      <td>0</td>\n",
       "      <td>0</td>\n",
       "      <td>28</td>\n",
       "      <td>0</td>\n",
       "      <td>2</td>\n",
       "      <td>-1</td>\n",
       "      <td>...</td>\n",
       "      <td>1</td>\n",
       "      <td>0</td>\n",
       "      <td>0</td>\n",
       "      <td>0</td>\n",
       "      <td>0</td>\n",
       "      <td>0</td>\n",
       "      <td>0</td>\n",
       "      <td>0</td>\n",
       "      <td>0</td>\n",
       "      <td>1</td>\n",
       "    </tr>\n",
       "    <tr>\n",
       "      <th>1</th>\n",
       "      <td>32</td>\n",
       "      <td>0</td>\n",
       "      <td>1156</td>\n",
       "      <td>1</td>\n",
       "      <td>0</td>\n",
       "      <td>1</td>\n",
       "      <td>26</td>\n",
       "      <td>4</td>\n",
       "      <td>5</td>\n",
       "      <td>-1</td>\n",
       "      <td>...</td>\n",
       "      <td>0</td>\n",
       "      <td>0</td>\n",
       "      <td>0</td>\n",
       "      <td>0</td>\n",
       "      <td>0</td>\n",
       "      <td>0</td>\n",
       "      <td>0</td>\n",
       "      <td>0</td>\n",
       "      <td>1</td>\n",
       "      <td>0</td>\n",
       "    </tr>\n",
       "    <tr>\n",
       "      <th>2</th>\n",
       "      <td>29</td>\n",
       "      <td>2</td>\n",
       "      <td>637</td>\n",
       "      <td>1</td>\n",
       "      <td>0</td>\n",
       "      <td>1</td>\n",
       "      <td>3</td>\n",
       "      <td>5</td>\n",
       "      <td>1</td>\n",
       "      <td>119</td>\n",
       "      <td>...</td>\n",
       "      <td>1</td>\n",
       "      <td>0</td>\n",
       "      <td>0</td>\n",
       "      <td>0</td>\n",
       "      <td>0</td>\n",
       "      <td>0</td>\n",
       "      <td>0</td>\n",
       "      <td>0</td>\n",
       "      <td>0</td>\n",
       "      <td>1</td>\n",
       "    </tr>\n",
       "    <tr>\n",
       "      <th>3</th>\n",
       "      <td>25</td>\n",
       "      <td>0</td>\n",
       "      <td>373</td>\n",
       "      <td>1</td>\n",
       "      <td>0</td>\n",
       "      <td>1</td>\n",
       "      <td>11</td>\n",
       "      <td>4</td>\n",
       "      <td>2</td>\n",
       "      <td>-1</td>\n",
       "      <td>...</td>\n",
       "      <td>0</td>\n",
       "      <td>0</td>\n",
       "      <td>0</td>\n",
       "      <td>0</td>\n",
       "      <td>1</td>\n",
       "      <td>0</td>\n",
       "      <td>0</td>\n",
       "      <td>0</td>\n",
       "      <td>0</td>\n",
       "      <td>1</td>\n",
       "    </tr>\n",
       "    <tr>\n",
       "      <th>4</th>\n",
       "      <td>30</td>\n",
       "      <td>2</td>\n",
       "      <td>2694</td>\n",
       "      <td>0</td>\n",
       "      <td>0</td>\n",
       "      <td>1</td>\n",
       "      <td>3</td>\n",
       "      <td>5</td>\n",
       "      <td>1</td>\n",
       "      <td>-1</td>\n",
       "      <td>...</td>\n",
       "      <td>1</td>\n",
       "      <td>0</td>\n",
       "      <td>0</td>\n",
       "      <td>0</td>\n",
       "      <td>0</td>\n",
       "      <td>0</td>\n",
       "      <td>0</td>\n",
       "      <td>0</td>\n",
       "      <td>1</td>\n",
       "      <td>0</td>\n",
       "    </tr>\n",
       "    <tr>\n",
       "      <th>...</th>\n",
       "      <td>...</td>\n",
       "      <td>...</td>\n",
       "      <td>...</td>\n",
       "      <td>...</td>\n",
       "      <td>...</td>\n",
       "      <td>...</td>\n",
       "      <td>...</td>\n",
       "      <td>...</td>\n",
       "      <td>...</td>\n",
       "      <td>...</td>\n",
       "      <td>...</td>\n",
       "      <td>...</td>\n",
       "      <td>...</td>\n",
       "      <td>...</td>\n",
       "      <td>...</td>\n",
       "      <td>...</td>\n",
       "      <td>...</td>\n",
       "      <td>...</td>\n",
       "      <td>...</td>\n",
       "      <td>...</td>\n",
       "      <td>...</td>\n",
       "    </tr>\n",
       "    <tr>\n",
       "      <th>3995</th>\n",
       "      <td>28</td>\n",
       "      <td>2</td>\n",
       "      <td>0</td>\n",
       "      <td>1</td>\n",
       "      <td>0</td>\n",
       "      <td>1</td>\n",
       "      <td>25</td>\n",
       "      <td>4</td>\n",
       "      <td>1</td>\n",
       "      <td>40</td>\n",
       "      <td>...</td>\n",
       "      <td>0</td>\n",
       "      <td>0</td>\n",
       "      <td>0</td>\n",
       "      <td>0</td>\n",
       "      <td>0</td>\n",
       "      <td>1</td>\n",
       "      <td>0</td>\n",
       "      <td>0</td>\n",
       "      <td>0</td>\n",
       "      <td>1</td>\n",
       "    </tr>\n",
       "    <tr>\n",
       "      <th>3996</th>\n",
       "      <td>49</td>\n",
       "      <td>1</td>\n",
       "      <td>124</td>\n",
       "      <td>1</td>\n",
       "      <td>1</td>\n",
       "      <td>1</td>\n",
       "      <td>29</td>\n",
       "      <td>6</td>\n",
       "      <td>19</td>\n",
       "      <td>-1</td>\n",
       "      <td>...</td>\n",
       "      <td>0</td>\n",
       "      <td>0</td>\n",
       "      <td>0</td>\n",
       "      <td>0</td>\n",
       "      <td>0</td>\n",
       "      <td>0</td>\n",
       "      <td>0</td>\n",
       "      <td>1</td>\n",
       "      <td>0</td>\n",
       "      <td>0</td>\n",
       "    </tr>\n",
       "    <tr>\n",
       "      <th>3997</th>\n",
       "      <td>27</td>\n",
       "      <td>1</td>\n",
       "      <td>-400</td>\n",
       "      <td>0</td>\n",
       "      <td>1</td>\n",
       "      <td>1</td>\n",
       "      <td>8</td>\n",
       "      <td>6</td>\n",
       "      <td>1</td>\n",
       "      <td>-1</td>\n",
       "      <td>...</td>\n",
       "      <td>0</td>\n",
       "      <td>0</td>\n",
       "      <td>0</td>\n",
       "      <td>0</td>\n",
       "      <td>0</td>\n",
       "      <td>0</td>\n",
       "      <td>0</td>\n",
       "      <td>0</td>\n",
       "      <td>0</td>\n",
       "      <td>1</td>\n",
       "    </tr>\n",
       "    <tr>\n",
       "      <th>3998</th>\n",
       "      <td>36</td>\n",
       "      <td>2</td>\n",
       "      <td>658</td>\n",
       "      <td>1</td>\n",
       "      <td>0</td>\n",
       "      <td>1</td>\n",
       "      <td>29</td>\n",
       "      <td>0</td>\n",
       "      <td>1</td>\n",
       "      <td>227</td>\n",
       "      <td>...</td>\n",
       "      <td>0</td>\n",
       "      <td>0</td>\n",
       "      <td>0</td>\n",
       "      <td>0</td>\n",
       "      <td>0</td>\n",
       "      <td>0</td>\n",
       "      <td>0</td>\n",
       "      <td>0</td>\n",
       "      <td>0</td>\n",
       "      <td>1</td>\n",
       "    </tr>\n",
       "    <tr>\n",
       "      <th>3999</th>\n",
       "      <td>45</td>\n",
       "      <td>0</td>\n",
       "      <td>137</td>\n",
       "      <td>1</td>\n",
       "      <td>0</td>\n",
       "      <td>1</td>\n",
       "      <td>9</td>\n",
       "      <td>4</td>\n",
       "      <td>2</td>\n",
       "      <td>-1</td>\n",
       "      <td>...</td>\n",
       "      <td>0</td>\n",
       "      <td>0</td>\n",
       "      <td>0</td>\n",
       "      <td>1</td>\n",
       "      <td>0</td>\n",
       "      <td>0</td>\n",
       "      <td>0</td>\n",
       "      <td>0</td>\n",
       "      <td>1</td>\n",
       "      <td>0</td>\n",
       "    </tr>\n",
       "  </tbody>\n",
       "</table>\n",
       "<p>4000 rows × 27 columns</p>\n",
       "</div>"
      ],
      "text/plain": [
       "      Age  Education  Balance  HHInsurance  CarLoan  Communication  \\\n",
       "0      32          2     1218            1        0              0   \n",
       "1      32          0     1156            1        0              1   \n",
       "2      29          2      637            1        0              1   \n",
       "3      25          0      373            1        0              1   \n",
       "4      30          2     2694            0        0              1   \n",
       "...   ...        ...      ...          ...      ...            ...   \n",
       "3995   28          2        0            1        0              1   \n",
       "3996   49          1      124            1        1              1   \n",
       "3997   27          1     -400            0        1              1   \n",
       "3998   36          2      658            1        0              1   \n",
       "3999   45          0      137            1        0              1   \n",
       "\n",
       "      LastContactDay  LastContactMonth  NoOfContacts  DaysPassed  ...  \\\n",
       "0                 28                 0             2          -1  ...   \n",
       "1                 26                 4             5          -1  ...   \n",
       "2                  3                 5             1         119  ...   \n",
       "3                 11                 4             2          -1  ...   \n",
       "4                  3                 5             1          -1  ...   \n",
       "...              ...               ...           ...         ...  ...   \n",
       "3995              25                 4             1          40  ...   \n",
       "3996              29                 6            19          -1  ...   \n",
       "3997               8                 6             1          -1  ...   \n",
       "3998              29                 0             1         227  ...   \n",
       "3999               9                 4             2          -1  ...   \n",
       "\n",
       "     Job_management Job_retired  Job_self-employed  Job_services  Job_student  \\\n",
       "0                 1           0                  0             0            0   \n",
       "1                 0           0                  0             0            0   \n",
       "2                 1           0                  0             0            0   \n",
       "3                 0           0                  0             0            1   \n",
       "4                 1           0                  0             0            0   \n",
       "...             ...         ...                ...           ...          ...   \n",
       "3995              0           0                  0             0            0   \n",
       "3996              0           0                  0             0            0   \n",
       "3997              0           0                  0             0            0   \n",
       "3998              0           0                  0             0            0   \n",
       "3999              0           0                  0             1            0   \n",
       "\n",
       "      Job_technician  Job_unemployed  Marital_divorced  Marital_married  \\\n",
       "0                  0               0                 0                0   \n",
       "1                  0               0                 0                1   \n",
       "2                  0               0                 0                0   \n",
       "3                  0               0                 0                0   \n",
       "4                  0               0                 0                1   \n",
       "...              ...             ...               ...              ...   \n",
       "3995               1               0                 0                0   \n",
       "3996               0               0                 1                0   \n",
       "3997               0               0                 0                0   \n",
       "3998               0               0                 0                0   \n",
       "3999               0               0                 0                1   \n",
       "\n",
       "      Marital_single  \n",
       "0                  1  \n",
       "1                  0  \n",
       "2                  1  \n",
       "3                  1  \n",
       "4                  0  \n",
       "...              ...  \n",
       "3995               1  \n",
       "3996               0  \n",
       "3997               1  \n",
       "3998               1  \n",
       "3999               0  \n",
       "\n",
       "[4000 rows x 27 columns]"
      ]
     },
     "execution_count": 215,
     "metadata": {},
     "output_type": "execute_result"
    }
   ],
   "source": [
    "column = ['Job','Marital']\n",
    "for feature in column:\n",
    "    df = df.copy()\n",
    "    dummies = pd.get_dummies(df[feature], prefix=feature)\n",
    "    df = pd.concat([df, dummies], axis=1)\n",
    "    df = df.drop(feature, axis=1)\n",
    "df"
   ]
  },
  {
   "cell_type": "markdown",
   "id": "sexual-effect",
   "metadata": {},
   "source": [
    "### Fetch the amount of seconds the call to the customer lasted"
   ]
  },
  {
   "cell_type": "code",
   "execution_count": 216,
   "id": "eight-cause",
   "metadata": {},
   "outputs": [],
   "source": [
    "# Extract duration feature\n",
    "df['CallDuration'] = (pd.to_datetime(df['CallEnd']) - pd.to_datetime(df['CallStart'])).apply(lambda x: x.seconds)\n",
    "df = df.drop(['CallStart', 'CallEnd'], axis=1)"
   ]
  },
  {
   "cell_type": "code",
   "execution_count": 217,
   "id": "attempted-saturn",
   "metadata": {},
   "outputs": [
    {
     "name": "stdout",
     "output_type": "stream",
     "text": [
      "<class 'pandas.core.frame.DataFrame'>\n",
      "RangeIndex: 4000 entries, 0 to 3999\n",
      "Data columns (total 26 columns):\n",
      " #   Column             Non-Null Count  Dtype\n",
      "---  ------             --------------  -----\n",
      " 0   Age                4000 non-null   int64\n",
      " 1   Education          4000 non-null   int64\n",
      " 2   Balance            4000 non-null   int64\n",
      " 3   HHInsurance        4000 non-null   int64\n",
      " 4   CarLoan            4000 non-null   int64\n",
      " 5   Communication      4000 non-null   int64\n",
      " 6   LastContactDay     4000 non-null   int64\n",
      " 7   LastContactMonth   4000 non-null   int64\n",
      " 8   NoOfContacts       4000 non-null   int64\n",
      " 9   DaysPassed         4000 non-null   int64\n",
      " 10  CarInsurance       4000 non-null   int64\n",
      " 11  Job_admin.         4000 non-null   uint8\n",
      " 12  Job_blue-collar    4000 non-null   uint8\n",
      " 13  Job_entrepreneur   4000 non-null   uint8\n",
      " 14  Job_housemaid      4000 non-null   uint8\n",
      " 15  Job_management     4000 non-null   uint8\n",
      " 16  Job_retired        4000 non-null   uint8\n",
      " 17  Job_self-employed  4000 non-null   uint8\n",
      " 18  Job_services       4000 non-null   uint8\n",
      " 19  Job_student        4000 non-null   uint8\n",
      " 20  Job_technician     4000 non-null   uint8\n",
      " 21  Job_unemployed     4000 non-null   uint8\n",
      " 22  Marital_divorced   4000 non-null   uint8\n",
      " 23  Marital_married    4000 non-null   uint8\n",
      " 24  Marital_single     4000 non-null   uint8\n",
      " 25  CallDuration       4000 non-null   int64\n",
      "dtypes: int64(12), uint8(14)\n",
      "memory usage: 429.8 KB\n"
     ]
    }
   ],
   "source": [
    "df.info()"
   ]
  },
  {
   "cell_type": "markdown",
   "id": "jewish-contrary",
   "metadata": {},
   "source": [
    "### Observation\n",
    "\n",
    "After imputation and handling of missing values the dataframe is all numerical now and is ready for modelling purposes"
   ]
  },
  {
   "cell_type": "markdown",
   "id": "narrow-shooting",
   "metadata": {},
   "source": [
    "### Machine Learning"
   ]
  },
  {
   "cell_type": "code",
   "execution_count": 218,
   "id": "excellent-twins",
   "metadata": {},
   "outputs": [],
   "source": [
    "# Split df into X and y\n",
    "y = df['CarInsurance']\n",
    "X = df.drop('CarInsurance', axis=1)"
   ]
  },
  {
   "cell_type": "code",
   "execution_count": 219,
   "id": "brief-discrimination",
   "metadata": {},
   "outputs": [],
   "source": [
    "# Train-test split\n",
    "X_train, X_test, y_train, y_test = train_test_split(X, y, train_size=0.7, shuffle=True, random_state=1)\n",
    "\n",
    "# Scale X\n",
    "scaler = StandardScaler()\n",
    "scaler.fit(X_train)\n",
    "X_train = pd.DataFrame(scaler.transform(X_train), index=X_train.index, columns=X_train.columns)\n",
    "X_test = pd.DataFrame(scaler.transform(X_test), index=X_test.index, columns=X_test.columns)"
   ]
  },
  {
   "cell_type": "code",
   "execution_count": 220,
   "id": "pleased-community",
   "metadata": {},
   "outputs": [
    {
     "name": "stdout",
     "output_type": "stream",
     "text": [
      "<class 'pandas.core.frame.DataFrame'>\n",
      "Int64Index: 2800 entries, 1850 to 1061\n",
      "Data columns (total 25 columns):\n",
      " #   Column             Non-Null Count  Dtype  \n",
      "---  ------             --------------  -----  \n",
      " 0   Age                2800 non-null   float64\n",
      " 1   Education          2800 non-null   float64\n",
      " 2   Balance            2800 non-null   float64\n",
      " 3   HHInsurance        2800 non-null   float64\n",
      " 4   CarLoan            2800 non-null   float64\n",
      " 5   Communication      2800 non-null   float64\n",
      " 6   LastContactDay     2800 non-null   float64\n",
      " 7   LastContactMonth   2800 non-null   float64\n",
      " 8   NoOfContacts       2800 non-null   float64\n",
      " 9   DaysPassed         2800 non-null   float64\n",
      " 10  Job_admin.         2800 non-null   float64\n",
      " 11  Job_blue-collar    2800 non-null   float64\n",
      " 12  Job_entrepreneur   2800 non-null   float64\n",
      " 13  Job_housemaid      2800 non-null   float64\n",
      " 14  Job_management     2800 non-null   float64\n",
      " 15  Job_retired        2800 non-null   float64\n",
      " 16  Job_self-employed  2800 non-null   float64\n",
      " 17  Job_services       2800 non-null   float64\n",
      " 18  Job_student        2800 non-null   float64\n",
      " 19  Job_technician     2800 non-null   float64\n",
      " 20  Job_unemployed     2800 non-null   float64\n",
      " 21  Marital_divorced   2800 non-null   float64\n",
      " 22  Marital_married    2800 non-null   float64\n",
      " 23  Marital_single     2800 non-null   float64\n",
      " 24  CallDuration       2800 non-null   float64\n",
      "dtypes: float64(25)\n",
      "memory usage: 568.8 KB\n"
     ]
    }
   ],
   "source": [
    "X_train.info()"
   ]
  },
  {
   "cell_type": "markdown",
   "id": "conservative-florida",
   "metadata": {},
   "source": [
    "### Vanilla ML models"
   ]
  },
  {
   "cell_type": "markdown",
   "id": "optional-sugar",
   "metadata": {},
   "source": [
    "### Decision Tree Classifier"
   ]
  },
  {
   "cell_type": "code",
   "execution_count": 240,
   "id": "invalid-reality",
   "metadata": {},
   "outputs": [
    {
     "name": "stdout",
     "output_type": "stream",
     "text": [
      "Best score on test set (accuracy) Decision Tree classifier = 77.2500\n"
     ]
    }
   ],
   "source": [
    "classifier = DecisionTreeClassifier()\n",
    "classifier.fit(X_train, y_train)\n",
    "y_pred = classifier.predict(X_test)\n",
    "classifier.score(X_test, y_test)*100\n",
    "print(\"Best score on test set (accuracy) Decision Tree classifier = {:.4f}\".format(classifier.score(X_test, y_test)*100))\n"
   ]
  },
  {
   "cell_type": "markdown",
   "id": "returning-latino",
   "metadata": {},
   "source": [
    "### Logistic Regression"
   ]
  },
  {
   "cell_type": "code",
   "execution_count": 241,
   "id": "polish-excitement",
   "metadata": {},
   "outputs": [
    {
     "name": "stdout",
     "output_type": "stream",
     "text": [
      "Best score on test set (accuracy) Logistic regression classifier = 77.7500\n"
     ]
    }
   ],
   "source": [
    "classifier = LogisticRegression()\n",
    "classifier.fit(X_train, y_train)\n",
    "y_pred = classifier.predict(X_test)\n",
    "classifier.score(X_test, y_test)*100\n",
    "print(\"Best score on test set (accuracy) Logistic regression classifier = {:.4f}\".format(classifier.score(X_test, y_test)*100))\n"
   ]
  },
  {
   "cell_type": "markdown",
   "id": "still-funds",
   "metadata": {},
   "source": [
    "### K Nearest Neighbours"
   ]
  },
  {
   "cell_type": "code",
   "execution_count": 255,
   "id": "figured-steal",
   "metadata": {},
   "outputs": [
    {
     "name": "stdout",
     "output_type": "stream",
     "text": [
      "Best score on test set (accuracy) KNN classifier = 72.8333\n"
     ]
    }
   ],
   "source": [
    "classifier = KNeighborsClassifier()\n",
    "classifier.fit(X_train, y_train)\n",
    "y_pred = classifier.predict(X_test)\n",
    "classifier.score(X_test, y_test)*100\n",
    "print(\"Best score on test set (accuracy) KNN classifier = {:.4f}\".format(classifier.score(X_test, y_test)*100))"
   ]
  },
  {
   "cell_type": "markdown",
   "id": "wooden-filename",
   "metadata": {},
   "source": [
    "### Random Forest -- Ensemble"
   ]
  },
  {
   "cell_type": "code",
   "execution_count": 243,
   "id": "ordered-neighbor",
   "metadata": {},
   "outputs": [
    {
     "name": "stdout",
     "output_type": "stream",
     "text": [
      "Best score on test set (accuracy) Random Forest classifier = 82.9167\n"
     ]
    }
   ],
   "source": [
    "classifier = RandomForestClassifier()\n",
    "classifier.fit(X_train, y_train)\n",
    "y_pred = classifier.predict(X_test)\n",
    "classifier.score(X_test, y_test)*100\n",
    "print(\"Best score on test set (accuracy) Random Forest classifier = {:.4f}\".format(classifier.score(X_test, y_test)*100))"
   ]
  },
  {
   "cell_type": "markdown",
   "id": "tender-vinyl",
   "metadata": {},
   "source": [
    "### Observation\n",
    "\n",
    "Since the problem is a classification task, classifying algorithm have been used to predict the target variable, in this case CarInsurance. 4 Classification algorithms namely the logistic regression, decision trees,  K nearest neighbours and random forest ensemble techniques have been used.\n",
    "\n",
    "As seen from the above results from the vanilla model, the KNN performed the worst. The accuracy of Logistic regression and decision tree classifier is almost identical at around 77%. The ensemble algorithm of random forests which builds multiple trees and takes the majority voting to decide on the target label has the highest accuracy at 82.91%"
   ]
  },
  {
   "cell_type": "markdown",
   "id": "popular-benefit",
   "metadata": {},
   "source": [
    "### Complex models based on hyperparamter tuning --GridSearchCV\n",
    "\n",
    "Building a best possible ML model with the highest accuracy is the aim of all ML Engineers. The vanilla ML models might not always produce the best accuracy and there is always room for improvement. One important factor in the performances of these models are their hyperparameters, once we set appropriate values for these hyperparameters, the performance of a model can improve significantly. GridSearchCV from the scikit-learn library enables just this\n",
    "\n",
    "GridSearch is the process of performing hyperparameter tuning in order to determine the optimal values for a given model. The best possible hyperparameters for a ML model is impossible to predict and by using GridSearch it enables looping through the parameters and produces the best possible model. The process could be done manually as well but it could take a considerable amount of time and resources"
   ]
  },
  {
   "cell_type": "markdown",
   "id": "average-present",
   "metadata": {},
   "source": [
    "### Random Forests -GrisSearchCV"
   ]
  },
  {
   "cell_type": "code",
   "execution_count": 251,
   "id": "ultimate-celebration",
   "metadata": {},
   "outputs": [],
   "source": [
    "pipe = Pipeline([('classifier' , RandomForestClassifier())])\n",
    "param_grid = [\n",
    "    {'classifier' : [RandomForestClassifier()],\n",
    "    'classifier__n_estimators' : list(range(10,101,10)),\n",
    "    'classifier__max_features' : list(range(6,32,5))}\n",
    "]\n",
    "\n",
    "# Create grid search object\n",
    "\n",
    "clf = GridSearchCV(pipe, param_grid = param_grid, cv = 5, verbose=True, n_jobs=-1)"
   ]
  },
  {
   "cell_type": "code",
   "execution_count": 252,
   "id": "every-hierarchy",
   "metadata": {},
   "outputs": [
    {
     "name": "stdout",
     "output_type": "stream",
     "text": [
      "Fitting 5 folds for each of 60 candidates, totalling 300 fits\n"
     ]
    },
    {
     "name": "stderr",
     "output_type": "stream",
     "text": [
      "[Parallel(n_jobs=-1)]: Using backend LokyBackend with 4 concurrent workers.\n",
      "[Parallel(n_jobs=-1)]: Done  42 tasks      | elapsed:    7.7s\n",
      "[Parallel(n_jobs=-1)]: Done 192 tasks      | elapsed:   38.4s\n",
      "[Parallel(n_jobs=-1)]: Done 293 out of 300 | elapsed:   43.0s remaining:    1.0s\n",
      "[Parallel(n_jobs=-1)]: Done 300 out of 300 | elapsed:   43.1s finished\n"
     ]
    }
   ],
   "source": [
    "best_clf = clf.fit(X_train, y_train)"
   ]
  },
  {
   "cell_type": "code",
   "execution_count": 253,
   "id": "irish-woman",
   "metadata": {},
   "outputs": [
    {
     "data": {
      "text/plain": [
       "{'classifier': RandomForestClassifier(bootstrap=True, ccp_alpha=0.0, class_weight=None,\n",
       "                        criterion='gini', max_depth=None, max_features=6,\n",
       "                        max_leaf_nodes=None, max_samples=None,\n",
       "                        min_impurity_decrease=0.0, min_impurity_split=None,\n",
       "                        min_samples_leaf=1, min_samples_split=2,\n",
       "                        min_weight_fraction_leaf=0.0, n_estimators=100,\n",
       "                        n_jobs=None, oob_score=False, random_state=None,\n",
       "                        verbose=0, warm_start=False),\n",
       " 'classifier__max_features': 6,\n",
       " 'classifier__n_estimators': 100}"
      ]
     },
     "execution_count": 253,
     "metadata": {},
     "output_type": "execute_result"
    }
   ],
   "source": [
    "best_clf.best_params_"
   ]
  },
  {
   "cell_type": "code",
   "execution_count": 254,
   "id": "printable-brooklyn",
   "metadata": {},
   "outputs": [
    {
     "data": {
      "text/plain": [
       "83.58333333333333"
      ]
     },
     "execution_count": 254,
     "metadata": {},
     "output_type": "execute_result"
    }
   ],
   "source": [
    "y_pred = best_clf.predict(X_test)\n",
    "best_clf.score(X_test, y_test)*100"
   ]
  },
  {
   "cell_type": "markdown",
   "id": "generous-cross",
   "metadata": {},
   "source": [
    "### Observation\n",
    "\n",
    "As you can see from the above results, the gridSearch works by taking in series of parameters in the form of a dictionary and and loops through them to achieve the model with the highest accuracy. The best parameters for the model can also be obtained from the \"best_params_\"\n",
    "\n",
    "The accuracy score for the gridSearchCV model is higher when compared to the vanilla random forest model"
   ]
  },
  {
   "cell_type": "markdown",
   "id": "regulation-crawford",
   "metadata": {},
   "source": [
    "### SGDC Classifier -- GridSearchCV"
   ]
  },
  {
   "cell_type": "code",
   "execution_count": 221,
   "id": "abandoned-activity",
   "metadata": {},
   "outputs": [
    {
     "data": {
      "text/plain": [
       "GridSearchCV(cv=5, error_score=nan,\n",
       "             estimator=Pipeline(memory=None,\n",
       "                                steps=[('scale',\n",
       "                                        StandardScaler(copy=True,\n",
       "                                                       with_mean=True,\n",
       "                                                       with_std=True)),\n",
       "                                       ('var_tresh',\n",
       "                                        VarianceThreshold(threshold=0.15999999999999998)),\n",
       "                                       ('feature_selection',\n",
       "                                        SelectFromModel(estimator=LGBMClassifier(boosting_type='gbdt',\n",
       "                                                                                 class_weight=None,\n",
       "                                                                                 colsample_bytree=1.0,\n",
       "                                                                                 importance_type='split',\n",
       "                                                                                 lear...\n",
       "                                                      n_jobs=None, penalty='l2',\n",
       "                                                      power_t=0.5,\n",
       "                                                      random_state=None,\n",
       "                                                      shuffle=True, tol=0.001,\n",
       "                                                      validation_fraction=0.1,\n",
       "                                                      verbose=0,\n",
       "                                                      warm_start=False))],\n",
       "                                verbose=False),\n",
       "             iid='deprecated', n_jobs=6,\n",
       "             param_grid={'cls__l1_ratio': [0.15, 0.25, 0.5, 0.75],\n",
       "                         'cls__loss': ['log'], 'cls__penalty': ['elasticnet']},\n",
       "             pre_dispatch='2*n_jobs', refit=True, return_train_score=False,\n",
       "             scoring='accuracy', verbose=0)"
      ]
     },
     "execution_count": 221,
     "metadata": {},
     "output_type": "execute_result"
    }
   ],
   "source": [
    "params = {\n",
    "    \"cls__loss\": ['log'],\n",
    "    \"cls__penalty\": [\"elasticnet\"],\n",
    "    \"cls__l1_ratio\": [0.15, 0.25, 0.5, 0.75],\n",
    "}\n",
    "\n",
    "pipe_en = Pipeline([\n",
    "    ('scale', StandardScaler()),\n",
    "    ('var_tresh', VarianceThreshold(threshold=(.8 * (1 - .8)))),\n",
    "    ('feature_selection', SelectFromModel(lgbm.LGBMClassifier())),\n",
    "    ('cls', SGDClassifier())\n",
    "])\n",
    "\n",
    "grid_en = GridSearchCV(pipe_en, params, scoring='accuracy', n_jobs=6, cv=5)\n",
    "grid_en.fit(X_train, y_train)"
   ]
  },
  {
   "cell_type": "code",
   "execution_count": 222,
   "id": "compressed-resident",
   "metadata": {},
   "outputs": [
    {
     "name": "stdout",
     "output_type": "stream",
     "text": [
      "best score on validation set (accuracy) = 0.7546\n",
      "best score on test set (accuracy) = 0.7375\n"
     ]
    }
   ],
   "source": [
    "preds = grid_en.predict(X_test)\n",
    "print(\"best score on validation set (accuracy) = {:.4f}\".format(grid_en.best_score_))\n",
    "print(\"best score on test set (accuracy) = {:.4f}\".format(accuracy_score(y_test, preds)))"
   ]
  },
  {
   "cell_type": "markdown",
   "id": "stunning-press",
   "metadata": {},
   "source": [
    "### Logistic Regression -- GridSearchCV"
   ]
  },
  {
   "cell_type": "code",
   "execution_count": 225,
   "id": "recreational-completion",
   "metadata": {},
   "outputs": [
    {
     "data": {
      "text/plain": [
       "GridSearchCV(cv=5, error_score=nan,\n",
       "             estimator=Pipeline(memory=None,\n",
       "                                steps=[('scale',\n",
       "                                        StandardScaler(copy=True,\n",
       "                                                       with_mean=True,\n",
       "                                                       with_std=True)),\n",
       "                                       ('var_tresh',\n",
       "                                        VarianceThreshold(threshold=0.15999999999999998)),\n",
       "                                       ('feature_selection',\n",
       "                                        SelectFromModel(estimator=LGBMClassifier(boosting_type='gbdt',\n",
       "                                                                                 class_weight=None,\n",
       "                                                                                 colsample_bytree=1.0,\n",
       "                                                                                 importance_type='split',\n",
       "                                                                                 lear...\n",
       "                                                           l1_ratio=None,\n",
       "                                                           max_iter=100,\n",
       "                                                           multi_class='auto',\n",
       "                                                           n_jobs=None,\n",
       "                                                           penalty='l2',\n",
       "                                                           random_state=None,\n",
       "                                                           solver='lbfgs',\n",
       "                                                           tol=0.0001,\n",
       "                                                           verbose=0,\n",
       "                                                           warm_start=False))],\n",
       "                                verbose=False),\n",
       "             iid='deprecated', n_jobs=6,\n",
       "             param_grid={'cls__C': [0.5, 1, 2, 5], 'cls__max_iter': [500],\n",
       "                         'cls__penalty': ['l1', 'l2']},\n",
       "             pre_dispatch='2*n_jobs', refit=True, return_train_score=False,\n",
       "             scoring='accuracy', verbose=0)"
      ]
     },
     "execution_count": 225,
     "metadata": {},
     "output_type": "execute_result"
    }
   ],
   "source": [
    "params = {\n",
    "    \"cls__penalty\": [\"l1\", \"l2\"],\n",
    "    \"cls__C\": [0.5, 1, 2, 5],\n",
    "    \"cls__max_iter\": [500]\n",
    "}\n",
    "\n",
    "pipe_lr = Pipeline([\n",
    "    ('scale', StandardScaler()),\n",
    "    ('var_tresh', VarianceThreshold(threshold=(.8 * (1 - .8)))),\n",
    "    ('feature_selection', SelectFromModel(lgbm.LGBMClassifier())),\n",
    "    ('cls', LogisticRegression())\n",
    "])\n",
    "\n",
    "grid_lr = GridSearchCV(pipe_lr, params, scoring='accuracy', n_jobs=6, cv=5)\n",
    "grid_lr.fit(X_train, y_train)"
   ]
  },
  {
   "cell_type": "code",
   "execution_count": 226,
   "id": "touched-agriculture",
   "metadata": {},
   "outputs": [
    {
     "name": "stdout",
     "output_type": "stream",
     "text": [
      "best score on validation set (accuracy) = 0.7532\n",
      "best score on test set (accuracy) = 0.7458\n"
     ]
    }
   ],
   "source": [
    "preds = grid_lr.predict(X_test)\n",
    "print(\"best score on validation set (accuracy) = {:.4f}\".format(grid_lr.best_score_))\n",
    "print(\"best score on test set (accuracy) = {:.4f}\".format(accuracy_score(y_test, preds)))"
   ]
  },
  {
   "cell_type": "markdown",
   "id": "educated-ozone",
   "metadata": {},
   "source": [
    "### KNN GridSearchCV"
   ]
  },
  {
   "cell_type": "code",
   "execution_count": 223,
   "id": "corresponding-alexander",
   "metadata": {},
   "outputs": [
    {
     "data": {
      "text/plain": [
       "GridSearchCV(cv=5, error_score=nan,\n",
       "             estimator=Pipeline(memory=None,\n",
       "                                steps=[('scale',\n",
       "                                        StandardScaler(copy=True,\n",
       "                                                       with_mean=True,\n",
       "                                                       with_std=True)),\n",
       "                                       ('var_tresh',\n",
       "                                        VarianceThreshold(threshold=0.15999999999999998)),\n",
       "                                       ('feature_selection',\n",
       "                                        SelectFromModel(estimator=LGBMClassifier(boosting_type='gbdt',\n",
       "                                                                                 class_weight=None,\n",
       "                                                                                 colsample_bytree=1.0,\n",
       "                                                                                 importance_type='split',\n",
       "                                                                                 lear...\n",
       "                                                        prefit=False,\n",
       "                                                        threshold=None)),\n",
       "                                       ('cls',\n",
       "                                        KNeighborsClassifier(algorithm='auto',\n",
       "                                                             leaf_size=30,\n",
       "                                                             metric='minkowski',\n",
       "                                                             metric_params=None,\n",
       "                                                             n_jobs=None,\n",
       "                                                             n_neighbors=5, p=2,\n",
       "                                                             weights='uniform'))],\n",
       "                                verbose=False),\n",
       "             iid='deprecated', n_jobs=6,\n",
       "             param_grid={'cls__n_neighbors': [1, 2, 3, 4, 5]},\n",
       "             pre_dispatch='2*n_jobs', refit=True, return_train_score=False,\n",
       "             scoring='accuracy', verbose=0)"
      ]
     },
     "execution_count": 223,
     "metadata": {},
     "output_type": "execute_result"
    }
   ],
   "source": [
    "params = {\n",
    "    \"cls__n_neighbors\": [1,2,3,4,5]\n",
    "}\n",
    "\n",
    "pipe_knn = Pipeline([\n",
    "    ('scale', StandardScaler()),\n",
    "    ('var_tresh', VarianceThreshold(threshold=(.8 * (1 - .8)))),\n",
    "    ('feature_selection', SelectFromModel(lgbm.LGBMClassifier())),\n",
    "    ('cls', KNeighborsClassifier())\n",
    "])\n",
    "\n",
    "grid_knn = GridSearchCV(pipe_knn, params, scoring='accuracy', n_jobs=6, cv=5)\n",
    "grid_knn.fit(X_train, y_train)"
   ]
  },
  {
   "cell_type": "code",
   "execution_count": 224,
   "id": "killing-richards",
   "metadata": {},
   "outputs": [
    {
     "name": "stdout",
     "output_type": "stream",
     "text": [
      "best score on validation set (accuracy) = 0.7868\n",
      "best score on test set (accuracy) = 0.7967\n"
     ]
    }
   ],
   "source": [
    "preds = grid_knn.predict(X_test)\n",
    "print(\"best score on validation set (accuracy) = {:.4f}\".format(grid_knn.best_score_))\n",
    "print(\"best score on test set (accuracy) = {:.4f}\".format(accuracy_score(y_test, preds)))"
   ]
  },
  {
   "cell_type": "markdown",
   "id": "commercial-decrease",
   "metadata": {},
   "source": [
    "### Observation\n",
    "\n",
    "The gridSearchCV results for various classifiers can be seen above. It is clear that the Random Forest classifier perfomed the best with hyperparameter tuning with accuracy of about 83.58%. The SGDC Classifier which is an optimization technique on Logistic Regression produces accuracy of about 73.75% while the logistic regression resulted in accuracy of about 74.58%. The gridSearchCV helped improving the performance of KNN as the accuracy increased from 72.83% to 79.67%"
   ]
  },
  {
   "cell_type": "markdown",
   "id": "incredible-listening",
   "metadata": {},
   "source": [
    "### Best performing models"
   ]
  },
  {
   "cell_type": "markdown",
   "id": "fossil-setup",
   "metadata": {},
   "source": [
    "#### RandomForest (GridSearch)  --  83.58%\n",
    "#### RandomForest(Vanilla)           --  82.91%\n",
    "#### KNN(GridSearch)                    --  79.67%\n",
    "#### Logistic Regression(Vanilla)  --  77.75%\n",
    "#### Decision Trees(Vanilla            --  77.25%\n",
    "#### Logistic Regression(GridSearchCV)  -- 74.58%\n",
    "#### SGDC Classifier(GridSearchCV)         -- 73.75%\n",
    "#### KNN(Vanilla) -- 72.83%"
   ]
  },
  {
   "cell_type": "markdown",
   "id": "treated-preservation",
   "metadata": {},
   "source": [
    "### Further improvements\n",
    "\n",
    "The aim of the challenge was to build a classifier using one of the frameworks(XGBoost, Scikit-Learn, TensorFlow or PyTorch). The models in this experiment was built using the Scikit-Learn machine learning library. The accuracy of the vanilla models looked decent but further hyperparameter tuning on the models revealed that the accuracy of the models can be improved further. Variety of ML models have been built ranging from Logistic regression, decision trees and KNN to ensemble random forest algorithm. \n",
    "\n",
    "Further to this other classifiers like the SVM could be attempted with different kernel tricks to evaluate for the accuracy. The experiment solely focussed on evaluation accuracy of the models and other model evaluation metrics like the precision, recall, f1 score and the ROC curve have not been evaluated. It would be intersting to view those resulst and choose appropriate evaluation metric based on the business case.\n",
    "\n",
    "The use of deep learning frameworks, tensorflow and PyTorch is out of scope in this challenge and only ML models have been built. The dataset is quite small is extracted anything ground breaking using deep learning techniques but further to the ML models, future experiments could also take into account using DL techniques to achieve higher State-of-art DL models"
   ]
  },
  {
   "cell_type": "markdown",
   "id": "based-mumbai",
   "metadata": {},
   "source": [
    "### Conclusion\n",
    "\n",
    "The challenge of the dataset was that there were lot of missing data, imputation of them was the key to move forward and the most common imputation methodology of using mode(most repeated) was used. Since the dataset had a lot of categorical features, they had to be encoded to some kind of numerical form making sure that the model doesn't weigh them according to their numerical description. Hence the one-hot encoding was done to prevent that. Once the model was ready to be modelled, StandardScaler was used to ensure that the all the info in the dataframe was in the comparable scale.\n",
    "\n",
    "Several ML models both Vanilla and the using GridSearchCV that automates the hyperparamater tuning were built and the results showed that the random forest model using gridSearchCV performed the best with the best accuracy among all the models at 83.58%. Several recommendations on further improving the models using different approaches and frameworks have been mentioned in the further improvements section."
   ]
  }
 ],
 "metadata": {
  "kernelspec": {
   "display_name": "Python 3",
   "language": "python",
   "name": "python3"
  },
  "language_info": {
   "codemirror_mode": {
    "name": "ipython",
    "version": 3
   },
   "file_extension": ".py",
   "mimetype": "text/x-python",
   "name": "python",
   "nbconvert_exporter": "python",
   "pygments_lexer": "ipython3",
   "version": "3.7.3"
  }
 },
 "nbformat": 4,
 "nbformat_minor": 5
}
